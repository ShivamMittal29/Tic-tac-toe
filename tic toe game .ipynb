{
 "cells": [
  {
   "cell_type": "code",
   "execution_count": 1,
   "metadata": {
    "collapsed": false
   },
   "outputs": [],
   "source": [
    "from IPython.display import clear_output \n",
    "def board_display(board):\n",
    "    clear_output()\n",
    "    print(' |  |')\n",
    "    print( board[7]+'|'+board[8]+' |'+board[9])\n",
    "    print(' |  |')\n",
    "    print('----------')\n",
    "    print(' |  |')\n",
    "    print( board[4]+'|'+board[5]+' |'+board[6])\n",
    "    print(' |  |')\n",
    "    print('----------')\n",
    "    print(' |  |')\n",
    "    print( board[1]+'|'+board[2]+' |'+board[3])\n",
    "    print(' |  |')"
   ]
  },
  {
   "cell_type": "code",
   "execution_count": 2,
   "metadata": {
    "collapsed": false
   },
   "outputs": [
    {
     "name": "stdout",
     "output_type": "stream",
     "text": [
      " |  |\n",
      "X|O |X\n",
      " |  |\n",
      "----------\n",
      " |  |\n",
      "O|X |O\n",
      " |  |\n",
      "----------\n",
      " |  |\n",
      "X|O |X\n",
      " |  |\n"
     ]
    }
   ],
   "source": [
    "board_values=['#', 'X','O','X','O','X','O','X','O','X']\n",
    "board_display(board_values)"
   ]
  },
  {
   "cell_type": "code",
   "execution_count": 3,
   "metadata": {
    "collapsed": true
   },
   "outputs": [],
   "source": [
    "def player_input():\n",
    "    marker=''\n",
    "    while marker!='X' and marker!='O':\n",
    "        marker=input('Player 1:Choose input X or O:')\n",
    "        if marker=='X':\n",
    "            return('X','O')\n",
    "        else:\n",
    "            return('O','X')"
   ]
  },
  {
   "cell_type": "code",
   "execution_count": 4,
   "metadata": {
    "collapsed": false
   },
   "outputs": [
    {
     "name": "stdout",
     "output_type": "stream",
     "text": [
      "Player 1:Choose input X or O:X\n"
     ]
    }
   ],
   "source": [
    "player1_marker,player2_marker=player_input()"
   ]
  },
  {
   "cell_type": "code",
   "execution_count": 5,
   "metadata": {
    "collapsed": false
   },
   "outputs": [
    {
     "data": {
      "text/plain": [
       "'O'"
      ]
     },
     "execution_count": 5,
     "metadata": {},
     "output_type": "execute_result"
    }
   ],
   "source": [
    "player2_marker "
   ]
  },
  {
   "cell_type": "code",
   "execution_count": 6,
   "metadata": {
    "collapsed": false
   },
   "outputs": [
    {
     "name": "stdout",
     "output_type": "stream",
     "text": [
      " |  |\n",
      "X|O |X\n",
      " |  |\n",
      "----------\n",
      " |  |\n",
      "O|X |O\n",
      " |  |\n",
      "----------\n",
      " |  |\n",
      "X|O |&\n",
      " |  |\n"
     ]
    }
   ],
   "source": [
    "def place_marker(board,marker,position):\n",
    "    board[position]=marker\n",
    "place_marker(board_values,'&',3)\n",
    "board_display(board_values)\n",
    "    \n",
    "    \n",
    "    "
   ]
  },
  {
   "cell_type": "code",
   "execution_count": 7,
   "metadata": {
    "collapsed": false
   },
   "outputs": [
    {
     "name": "stdout",
     "output_type": "stream",
     "text": [
      " |  |\n",
      "X|O |X\n",
      " |  |\n",
      "----------\n",
      " |  |\n",
      "O|X |O\n",
      " |  |\n",
      "----------\n",
      " |  |\n",
      "X|O |&\n",
      " |  |\n"
     ]
    },
    {
     "data": {
      "text/plain": [
       "True"
      ]
     },
     "execution_count": 7,
     "metadata": {},
     "output_type": "execute_result"
    }
   ],
   "source": [
    "def win(board,mark):\n",
    "    #all the  vertical o should be present in one line then o wins \n",
    "    #all vertical x should be present in one line then x wins \n",
    "    #all the horizontal o should be in one line then o wins \n",
    "    #all the horizontal x shold be in one line then the x wins the game\n",
    "    #all diagonal o should be in one line then o wins the game \n",
    "    #all diagonal x should be in one line then x wins the game\n",
    "    return((board[1]==mark and board[2]==mark and board[3]==mark)or\n",
    "           (board[4]==mark and board[5]==mark and board[6]==mark)or\n",
    "           (board[7]==mark and board[8]==mark and board[9]==mark)or\n",
    "           (board[7]==mark and board[5]==mark and board[3]==mark)or\n",
    "           (board[9]==mark and board[5]==mark and board[1]==mark))\n",
    "board_display(board_values)\n",
    "win(board_values,'X')\n",
    "    \n",
    "    "
   ]
  },
  {
   "cell_type": "code",
   "execution_count": 8,
   "metadata": {
    "collapsed": false
   },
   "outputs": [],
   "source": [
    "import random\n",
    "def player_choose():\n",
    "    choose_player=random.randint(0,1)\n",
    "    if choose_player==0:\n",
    "        return('player 1')\n",
    "    else:\n",
    "        return('player 2')\n",
    "def free_space(board,position):\n",
    "    return(board[position]=='')\n",
    "def full_board(board):\n",
    "    for i in range(1,10):\n",
    "        if free_space(board,i):\n",
    "            return false\n",
    "    return true \n",
    "    "
   ]
  },
  {
   "cell_type": "code",
   "execution_count": 9,
   "metadata": {
    "collapsed": true
   },
   "outputs": [],
   "source": [
    "def player_choice(board):\n",
    "    position=0\n",
    "    while position not in[1,2,3,4,5,6,7,8,9] or not free_space(board,position):\n",
    "        position=int(input('please choose a position from 1 to 9'))\n",
    "    return position\n",
    "def replay():\n",
    "    choice=input(\"DO YOU WANT TO PLAY THE GAME AGAIN?\")\n",
    "    return choice=='yes'"
   ]
  },
  {
   "cell_type": "code",
   "execution_count": null,
   "metadata": {
    "collapsed": false
   },
   "outputs": [
    {
     "name": "stdout",
     "output_type": "stream",
     "text": [
      " |  |\n",
      " |  | \n",
      " |  |\n",
      "----------\n",
      " |  |\n",
      " |  | \n",
      " |  |\n",
      "----------\n",
      " |  |\n",
      " |  | \n",
      " |  |\n",
      "please choose a position from 1 to 91\n",
      "please choose a position from 1 to 9 2\n"
     ]
    }
   ],
   "source": [
    "print('WELCOME TO TIC TAC TOE')\n",
    "while True:\n",
    "    the_board=[' ']*10\n",
    "    player1_marker,player2_marker=player_input()\n",
    "    chance=player_choose()\n",
    "    print(chance+'will get the first chance')\n",
    "    play_game=input('Ready to play the game?PLEASE REPLY Y OR N ')\n",
    "    if play_game=='Y':\n",
    "        game_on=True \n",
    "    else:\n",
    "        game_on=False\n",
    "    while game_on:\n",
    "        if chance=='Player 1':\n",
    "            #display the board\n",
    "            board_display(the_board)\n",
    "            #choose a position\n",
    "            position=player_choice(the_board)\n",
    "            #place the marker on the position wich you have been selected \n",
    "            place_marker(the_board,player1_marker,position)\n",
    "            #check whether the player has won or not\n",
    "            if win(the_board,player1_marker):\n",
    "                board_display(the_board)\n",
    "                print('player 1 has won the game')\n",
    "                game_on=False\n",
    "            else:\n",
    "                if full_board(the_board):\n",
    "                    board_display(the_board)\n",
    "                    print('TIE GAME!')\n",
    "                    game_on=False\n",
    "                else:\n",
    "                    chance='Player2'\n",
    "        else:\n",
    "            board_display(the_board)\n",
    "            #choose a position\n",
    "            position=player_choice(the_board)\n",
    "            #place the marker on the position wich you have been selected \n",
    "            place_marker(the_board,player1_marker,position)\n",
    "            #check whether the player has won or not\n",
    "            if win(the_board,player1_marker):\n",
    "                board_display(the_board)\n",
    "                print('player 1 has won the game')\n",
    "                game_on=False\n",
    "            else:\n",
    "                if full_board(the_board):\n",
    "                    board_display(the_board)\n",
    "                    print('TIE GAME!')\n",
    "                    game_on=False\n",
    "                else:\n",
    "                    chance='Player2'\n",
    "               \n",
    "        if not replay():\n",
    "            break\n",
    "                        \n",
    "                        \n",
    "                    \n",
    "                    \n",
    "            \n",
    "        \n",
    "\n",
    "    \n",
    "    \n",
    "    "
   ]
  }
 ],
 "metadata": {
  "anaconda-cloud": {},
  "kernelspec": {
   "display_name": "Python [default]",
   "language": "python",
   "name": "python3"
  },
  "language_info": {
   "codemirror_mode": {
    "name": "ipython",
    "version": 3
   },
   "file_extension": ".py",
   "mimetype": "text/x-python",
   "name": "python",
   "nbconvert_exporter": "python",
   "pygments_lexer": "ipython3",
   "version": "3.5.2"
  }
 },
 "nbformat": 4,
 "nbformat_minor": 1
}
